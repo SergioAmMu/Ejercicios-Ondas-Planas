{
 "cells": [
  {
   "cell_type": "markdown",
   "metadata": {},
   "source": [
    "### Ejercicio 21 N.Ida"
   ]
  },
  {
   "cell_type": "markdown",
   "metadata": {},
   "source": [
    "#### Datos:\n",
    "Application: Radar Detection and Ranging of Aircraft. A radar antenna transmits 50 kW at 10 GHz. Assume\n",
    "transmission is in a narrow beam, 1m^2 in area, and that within the beam, waves are plane waves. The wave is reflected\n",
    "from an aircraft but only 1% of the power propagates in the direction of the antenna. If the airplane is at a distance of\n",
    "100 km, calculate the total power received by the antenna. Assume permittivity and permeability of free space and\n",
    "conductivity of 10^-7 S/m.\n",
    "\n",
    "SOLUCIÓN: 0.266W"
   ]
  },
  {
   "cell_type": "code",
   "execution_count": 52,
   "metadata": {},
   "outputs": [],
   "source": [
    "import numpy as np\n",
    "epsilon_0 = 8.85418781e-12\n",
    "mu_0 = 1.256637061e-6\n",
    "sigma = 1e-7\n",
    "f=10e9\n",
    "potencia_inicial = 50e3\n",
    "d = 100e3"
   ]
  },
  {
   "cell_type": "markdown",
   "metadata": {},
   "source": [
    "#### Calculamos la tangente de pérdidas para comprobar si podemos utilizar un modelo aproximado de Alpha."
   ]
  },
  {
   "cell_type": "code",
   "execution_count": 55,
   "metadata": {},
   "outputs": [
    {
     "name": "stdout",
     "output_type": "stream",
     "text": [
      "Tangende de pérdidas: 1.797510359020669e-07\n"
     ]
    }
   ],
   "source": [
    "tan_perdidas = sigma / (2*np.pi*f * epsilon_0)\n",
    "print(\"Tangende de pérdidas:\", tan_perdidas)"
   ]
  },
  {
   "cell_type": "markdown",
   "metadata": {},
   "source": [
    "####  Utilizamos la aproximación de buen dieléctrico para calcular la constante de atenuación"
   ]
  },
  {
   "cell_type": "code",
   "execution_count": 56,
   "metadata": {},
   "outputs": [
    {
     "name": "stdout",
     "output_type": "stream",
     "text": [
      "Constante de atenuación (alpha):  1.8836515677927274e-05 Np/m\n"
     ]
    }
   ],
   "source": [
    "alpha = 1/2 * sigma * np.sqrt(mu_0/epsilon_0)\n",
    "print(\"Constante de atenuación (alpha): \", alpha, \"Np/m\")"
   ]
  },
  {
   "cell_type": "markdown",
   "metadata": {},
   "source": [
    "#### Calculamos la potencia que llega al avión teniendo en cuenta la pérdida que produce una conductividad ddistinta de cero."
   ]
  },
  {
   "cell_type": "code",
   "execution_count": 59,
   "metadata": {},
   "outputs": [
    {
     "name": "stdout",
     "output_type": "stream",
     "text": [
      "Potencia que incide sobre el avión:  7601.696435914827 W\n"
     ]
    }
   ],
   "source": [
    "potencia_avion = potencia_inicial*np.exp(-alpha*d)\n",
    "print(\"Potencia que incide sobre el avión: \",potencia_avion, \"W\")"
   ]
  },
  {
   "cell_type": "markdown",
   "metadata": {},
   "source": [
    "#### De esa potencia sólo se refleja el 1% y se propaga de nuevo por el medio hasta el radar."
   ]
  },
  {
   "cell_type": "code",
   "execution_count": 60,
   "metadata": {},
   "outputs": [
    {
     "name": "stdout",
     "output_type": "stream",
     "text": [
      "Potencia reflejada:  76.01696435914828 W\n",
      "Potencia recibida por el radar:  11.557157740760038 W\n"
     ]
    }
   ],
   "source": [
    "potencia_reflejada = potencia_avion / 100 #porcentaje de la potencia que se refleja\n",
    "print(\"Potencia reflejada: \", potencia_reflejada, \"W\")\n",
    "\n",
    "\n",
    "potencia_recibida = potencia_reflejada * np.exp(-alpha * d)\n",
    "print(\"Potencia recibida por el radar: \", potencia_recibida,\"W\" )\n",
    "\n"
   ]
  },
  {
   "cell_type": "code",
   "execution_count": null,
   "metadata": {},
   "outputs": [],
   "source": []
  },
  {
   "cell_type": "code",
   "execution_count": null,
   "metadata": {},
   "outputs": [],
   "source": []
  }
 ],
 "metadata": {
  "kernelspec": {
   "display_name": "Python 3",
   "language": "python",
   "name": "python3"
  },
  "language_info": {
   "codemirror_mode": {
    "name": "ipython",
    "version": 3
   },
   "file_extension": ".py",
   "mimetype": "text/x-python",
   "name": "python",
   "nbconvert_exporter": "python",
   "pygments_lexer": "ipython3",
   "version": "3.7.6"
  }
 },
 "nbformat": 4,
 "nbformat_minor": 4
}
